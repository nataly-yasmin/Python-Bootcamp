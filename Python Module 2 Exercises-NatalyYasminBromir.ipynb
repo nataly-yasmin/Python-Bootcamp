{
 "cells": [
  {
   "cell_type": "markdown",
   "metadata": {},
   "source": [
    "## Python Module 2 Exercises"
   ]
  },
  {
   "cell_type": "markdown",
   "metadata": {},
   "source": [
    "1. Print out a data type of a variable?"
   ]
  },
  {
   "cell_type": "code",
   "execution_count": 2,
   "metadata": {},
   "outputs": [
    {
     "data": {
      "text/plain": [
       "str"
      ]
     },
     "execution_count": 2,
     "metadata": {},
     "output_type": "execute_result"
    }
   ],
   "source": [
    "variable = \"string\"\n",
    "type(variable)"
   ]
  },
  {
   "cell_type": "markdown",
   "metadata": {},
   "source": [
    "2. Round 4.5667 to the nearest hundreth using a build-in function, round()."
   ]
  },
  {
   "cell_type": "code",
   "execution_count": 3,
   "metadata": {},
   "outputs": [
    {
     "data": {
      "text/plain": [
       "4.57"
      ]
     },
     "execution_count": 3,
     "metadata": {},
     "output_type": "execute_result"
    }
   ],
   "source": [
    "number = 4.5667\n",
    "round(number, 2)"
   ]
  },
  {
   "cell_type": "markdown",
   "metadata": {},
   "source": [
    "3. Convert \"657\" to an integer data type"
   ]
  },
  {
   "cell_type": "code",
   "execution_count": 1,
   "metadata": {},
   "outputs": [
    {
     "data": {
      "text/plain": [
       "657"
      ]
     },
     "execution_count": 1,
     "metadata": {},
     "output_type": "execute_result"
    }
   ],
   "source": [
    "int(\"657\")"
   ]
  },
  {
   "cell_type": "markdown",
   "metadata": {},
   "source": [
    "4. Write a function to calculate the miles per gallon.\n",
    "Get a miles driven and gallons used from a user and call your function to calculate the miles per gallon. "
   ]
  },
  {
   "cell_type": "code",
   "execution_count": 14,
   "metadata": {},
   "outputs": [
    {
     "name": "stdout",
     "output_type": "stream",
     "text": [
      "How many miles driven: 20\n",
      "How many gallons used: 3\n",
      "Miles per gallon is 6.67\n"
     ]
    }
   ],
   "source": [
    "#function\n",
    "def milesPerGallon(milesDriven, gallonsUsed):\n",
    "    MPG = milesDriven / gallonsUsed\n",
    "    print(\"Miles per gallon is\", round(MPG, 2))\n",
    "    return\n",
    "\n",
    "#user input\n",
    "milesDriven = int(input(\"How many miles driven: \"))\n",
    "gallonsUsed = int(input(\"How many gallons used: \"))\n",
    "\n",
    "milesPerGallon(milesDriven, gallonsUsed)\n",
    "\n",
    "\n",
    "#output display\n"
   ]
  },
  {
   "cell_type": "markdown",
   "metadata": {},
   "source": [
    "5. Enhance your function from exercise 4. Additionally, get a gas price per gallon from a user and write a program to compute the total gas cost and cost per mile. \n",
    "\n",
    "The output should look something like this:\n",
    "\n",
    "    Enter miles driven:            150\n",
    "    Enter gallons of gas used:     15\n",
    "    Enter cost per gallon:          3\n",
    "\n",
    "    Miles Per Gallon:   10.0\n",
    "    Total Gas Cost:     45.0\n",
    "    Cost per Mile:      0.3\n"
   ]
  },
  {
   "cell_type": "code",
   "execution_count": 28,
   "metadata": {},
   "outputs": [
    {
     "name": "stdout",
     "output_type": "stream",
     "text": [
      "Enter miles driven:\t\t150\n",
      "Enter gallons of gas used:\t15\n",
      "Enter gas cost per gallon:\t3\n",
      "\n",
      "Miles per Gallon:\t 10.0\n",
      "Total Gas Cost:\t\t 45\n",
      "Cost per Mile:\t\t 0.02\n"
     ]
    }
   ],
   "source": [
    "#function\n",
    "def milesPerGallon(milesDriven, gallonsUsed, gasPrice):\n",
    "    MPG = milesDriven / gallonsUsed\n",
    "    totalGasCost = gasPrice * gallonsUsed\n",
    "    gasCostPerMile = gasPrice / milesDriven\n",
    "    \n",
    "    print()\n",
    "    print(\"Miles per Gallon:\\t\", round(MPG, 2))\n",
    "    print(\"Total Gas Cost:\\t\\t\", round(totalGasCost, 2))\n",
    "    print(\"Cost per Mile:\\t\\t\", round(gasCostPerMile, 3))\n",
    "    \n",
    "    return\n",
    "\n",
    "#user input\n",
    "milesDriven = int(input(\"Enter miles driven:\\t\\t\"))\n",
    "gallonsUsed = int(input(\"Enter gallons of gas used:\\t\"))\n",
    "gasPrice = int(input(\"Enter gas cost per gallon:\\t\"))\n",
    "\n",
    "milesPerGallon(milesDriven, gallonsUsed, gasPrice)\n",
    "\n",
    "\n",
    "#output display\n"
   ]
  },
  {
   "cell_type": "markdown",
   "metadata": {},
   "source": [
    "6. Write a function called multiply_two() that accepts two parameters. The function should print a message like '15 + 2 = 17'.  Randomly generate two numbers between 1 and 100, then call the function with the two random numbers."
   ]
  },
  {
   "cell_type": "code",
   "execution_count": 34,
   "metadata": {},
   "outputs": [
    {
     "name": "stdout",
     "output_type": "stream",
     "text": [
      "28 + 53 = 1484\n"
     ]
    }
   ],
   "source": [
    "import random as rand\n",
    "\n",
    "def multiply_two(num1, num2):\n",
    "    total = num1 * num2\n",
    "    print (num1, \"+\", num2, \"=\", total)\n",
    "    return\n",
    "\n",
    "num1 = rand.randint(1, 100)\n",
    "num2 = rand.randint(1, 100)\n",
    "\n",
    "multiply_two(num1, num2)"
   ]
  },
  {
   "cell_type": "markdown",
   "metadata": {},
   "source": [
    "7. Write a function called make_shirt() that accepts a size and the text of a message. The function should print a sentence summarizing the size of the shirt and the message printed on it. The default shirt size is large and default message is 'I love Python!' Make a default size shirt with a message, a medium shirt with the default message, and a shirt of any size with a different message."
   ]
  },
  {
   "cell_type": "code",
   "execution_count": 45,
   "metadata": {},
   "outputs": [
    {
     "name": "stdout",
     "output_type": "stream",
     "text": [
      "Tshirt size: \n",
      "Tshirt message: \n",
      "You are ordering a large shirt with text that reads: I love Python! .\n"
     ]
    }
   ],
   "source": [
    "def make_shirt(size, message):\n",
    "    print(\"You are ordering a\", size, \"shirt with text that reads:\", message, \".\")\n",
    "    return\n",
    "\n",
    "size = input(\"Tshirt size: \")\n",
    "message = input(\"Tshirt message: \")\n",
    "\n",
    "make_shirt(size='large', message='I love Python!')"
   ]
  },
  {
   "cell_type": "markdown",
   "metadata": {},
   "source": [
    "8. Create a function for a multiplication table.  Get a number from a user and then call you function which produces a multiplication table for that number.\n",
    "The output should look something like this:\n",
    "\n",
    "        Enter a number: 3\n",
    "        3 X 1 = 3\n",
    "        3 X 2 = 6\n",
    "        3 X 3 = 9\n",
    "        3 X 4 = 12\n",
    "        3 X 5 = 15\n",
    "        3 X 6 = 18\n",
    "        3 X 7 = 21\n",
    "        3 X 8 = 24\n",
    "        3 X 9 = 27\n",
    "        "
   ]
  },
  {
   "cell_type": "code",
   "execution_count": 62,
   "metadata": {},
   "outputs": [
    {
     "name": "stdout",
     "output_type": "stream",
     "text": [
      "enter a number: 3\n",
      "3 x 1 = 3\n",
      "3 x 2 = 6\n",
      "3 x 3 = 9\n",
      "3 x 4 = 12\n",
      "3 x 5 = 15\n",
      "3 x 6 = 18\n",
      "3 x 7 = 21\n",
      "3 x 8 = 24\n",
      "3 x 9 = 27\n"
     ]
    }
   ],
   "source": [
    "def multiplyNum(number):\n",
    "    multiply = 1\n",
    "    while (multiply < 10):\n",
    "        total = number * multiply\n",
    "        print(number, \"x\", multiply, \"=\", total)\n",
    "        multiply += 1  \n",
    "    return \n",
    "\n",
    "number = int(input(\"enter a number: \"))\n",
    "\n",
    "multiplyNum(number)"
   ]
  },
  {
   "cell_type": "markdown",
   "metadata": {},
   "source": [
    "9. Write a function that accepts a string and returns a string that is \n",
    "    - without any leading nor trailing blanks\n",
    "    - converts to all capital letters\n",
    "    - and replaces all blanks with a period(.).  \n",
    "\n",
    "Write a program to accept a string from a user then call your function and display the original string and changed string.  \n",
    "\n",
    "The output should look something like this:\n",
    "\n",
    "        Enter a text: may your dreams come true\n",
    "        \n",
    "        Original Text: may your dreams come true\n",
    "        New Text: MAY.YOUR.DREAMS.COME.TRUE"
   ]
  },
  {
   "cell_type": "code",
   "execution_count": 58,
   "metadata": {},
   "outputs": [
    {
     "name": "stdout",
     "output_type": "stream",
     "text": [
      "enter a text:    may your dreams come true   \n",
      "new text:\t MAY.YOUR.DREAMS.COME.TRUE\n"
     ]
    }
   ],
   "source": [
    "def formatting(text):\n",
    "    text1 = text.upper()\n",
    "    text2 = text1.strip()\n",
    "    text3 = text2.replace(\" \", \".\")\n",
    "    print(\"new text:\\t\", text3)\n",
    "    return\n",
    "\n",
    "text = input(\"enter a text: \")\n",
    "formatting(text)\n",
    "\n"
   ]
  },
  {
   "cell_type": "markdown",
   "metadata": {},
   "source": [
    "10. Write a function that returns a randomly selected character from a passed string. Write a program to accept a string from a user then call your function and display the original string and selected character.\n",
    "\n",
    "The output should look something like this:\n",
    "\n",
    "        Enter a text: functions\n",
    "        Original Text:\tfunctions\n",
    "        Random character:\ts"
   ]
  },
  {
   "cell_type": "code",
   "execution_count": 74,
   "metadata": {},
   "outputs": [
    {
     "name": "stdout",
     "output_type": "stream",
     "text": [
      "Enter a text: yellowstone\n",
      "Original text:  yellowstone\n",
      "Random character:  l\n"
     ]
    }
   ],
   "source": [
    "import random as rand\n",
    "text = input(\"Enter a text: \")\n",
    "letters = len(text)\n",
    "chosenLetter = rand.randint(0, letters)\n",
    "\n",
    "print(\"Original text: \", text)\n",
    "print(\"Random character: \", text[chosenLetter])\n",
    "\n"
   ]
  },
  {
   "cell_type": "markdown",
   "metadata": {},
   "source": [
    "11. Write a program that asks the user to enter the width and length of a room. Once the values have been read, your program should compute and display the area of the room. The length and the width will be entered as floating point numbers. Include units in your prompt and output message; either feet or meters, depending on which unit you are more comfortable working with."
   ]
  },
  {
   "cell_type": "code",
   "execution_count": 66,
   "metadata": {},
   "outputs": [
    {
     "name": "stdout",
     "output_type": "stream",
     "text": [
      "what is the width of the room: 10\n",
      "what is the length of the room: 10\n",
      "The room has 100 square feet.\n"
     ]
    }
   ],
   "source": [
    "width = int(input(\"what is the width of the room: \"))\n",
    "length = int(input(\"what is the length of the room: \"))\n",
    "\n",
    "area = length * width\n",
    "\n",
    "print(\"The room has\", area, \"square feet.\")"
   ]
  },
  {
   "cell_type": "markdown",
   "metadata": {},
   "source": [
    "12. The program that you create for this exercise will begin by reading the cost of a meal ordered at a restaurant from the user. Then your program will compute the tax and tip for the meal. Use your local tax rate when computing the amount of tax owing. Compute the tip as 18 percent of the meal amount (without the tax). The output from your program should include the tax amount, the tip amount, and the grand total for the meal including both the tax and the tip. Format the output so that all of the values are displayed using two decimal places."
   ]
  },
  {
   "cell_type": "code",
   "execution_count": 70,
   "metadata": {},
   "outputs": [
    {
     "name": "stdout",
     "output_type": "stream",
     "text": [
      "what is the cost of the meal: 10\n",
      "tax amount:\t 0.6\n",
      "tip amount:\t 1.8\n",
      "total amount:\t 12.4\n"
     ]
    }
   ],
   "source": [
    "mealCost = int(input(\"what is the cost of the meal: \"))\n",
    "tax = 0.06\n",
    "tip = 0.18\n",
    "\n",
    "taxPay = mealCost * tax\n",
    "tipPay = mealCost * tip\n",
    "total = mealCost + taxPay + tipPay\n",
    "\n",
    "print(\"tax amount:\\t\", round(taxPay, 2))\n",
    "print(\"tip amount:\\t\", round(tipPay, 2))\n",
    "print(\"total amount:\\t\", round(total, 2))"
   ]
  },
  {
   "cell_type": "markdown",
   "metadata": {},
   "source": [
    "13. Write a program that reads a positive integer, n, from the user and then displays the sum of all of the integers from 1 to n. The sum of the first n positive integers can be computed using the formula: sum = (n)(n+1)/2"
   ]
  },
  {
   "cell_type": "code",
   "execution_count": 77,
   "metadata": {},
   "outputs": [
    {
     "name": "stdout",
     "output_type": "stream",
     "text": [
      "Enter a positive integer: 5\n",
      "15.0\n"
     ]
    }
   ],
   "source": [
    "def showcaseint(n):\n",
    "    sum = n * (n + 1) / 2\n",
    "    print(sum)\n",
    "    return\n",
    "\n",
    "n = int(input(\"Enter a positive integer: \"))\n",
    "showcaseint(n)"
   ]
  }
 ],
 "metadata": {
  "kernelspec": {
   "display_name": "Python 3 (ipykernel)",
   "language": "python",
   "name": "python3"
  },
  "language_info": {
   "codemirror_mode": {
    "name": "ipython",
    "version": 3
   },
   "file_extension": ".py",
   "mimetype": "text/x-python",
   "name": "python",
   "nbconvert_exporter": "python",
   "pygments_lexer": "ipython3",
   "version": "3.9.13"
  }
 },
 "nbformat": 4,
 "nbformat_minor": 4
}
