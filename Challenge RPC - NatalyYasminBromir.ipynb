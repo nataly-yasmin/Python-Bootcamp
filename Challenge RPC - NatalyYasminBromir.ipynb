{
 "cells": [
  {
   "cell_type": "markdown",
   "metadata": {},
   "source": [
    "## Challenge: Rock, Paper, Scissors"
   ]
  },
  {
   "cell_type": "markdown",
   "metadata": {},
   "source": [
    "## Purpose\n",
    "Create a game where the user can play a game of rock, paper, scissors against a computer. Set a play choice (rock, paper, or scissors) for the computer player and during the program, request for the user to input their play choice.\n",
    "\n",
    "The rules in Rock, Paper, Scissors are:\n",
    "\n",
    "    Rock beats scissors\n",
    "    Scissors beats paper\n",
    "    Paper beats rock\n",
    "\n",
    "If the user wins, then display \"You win!\" If they lose against the computer, then display \"You lose.\" If the computer and the user have the same play choice, display \"It's a draw.\"\n",
    "\n",
    "Also ask the user if they would like to play again. If they do, start the game again but if not, thank the user for playing the game."
   ]
  },
  {
   "cell_type": "markdown",
   "metadata": {},
   "source": [
    "## 1. Create a Welcome Message"
   ]
  },
  {
   "cell_type": "code",
   "execution_count": 2,
   "metadata": {},
   "outputs": [
    {
     "name": "stdout",
     "output_type": "stream",
     "text": [
      "Welcome to Rock, Paper, Scissors!\n",
      "Enter your name: Yasmin\n"
     ]
    }
   ],
   "source": [
    "print(\"Welcome to Rock, Paper, Scissors!\")\n",
    "name = input(\"Enter your name: \")"
   ]
  },
  {
   "cell_type": "markdown",
   "metadata": {},
   "source": [
    "## 2. Define the choices"
   ]
  },
  {
   "cell_type": "code",
   "execution_count": 88,
   "metadata": {},
   "outputs": [
    {
     "name": "stdout",
     "output_type": "stream",
     "text": [
      "For today's game, you have the following choices: \n",
      "0 - Rock \n",
      "1 - Paper \n",
      "2 - Scissors\n",
      "Yasmin's choice: Enter a number: 5\n",
      "That is not an option. Enter a number between 0 and 2.\n",
      "Yasmin's choice: Enter a number: 5\n",
      "That is not an option. Enter a number between 0 and 2.\n",
      "Yasmin's choice: Enter a number: 1\n"
     ]
    }
   ],
   "source": [
    "print(\"For today's game, you have the following choices: \\nRock \\nPaper \\nScissors\")\n",
    "userChoice = int(input(f\"{name}'s choice: Enter a number: \"))\n",
    "\n",
    "while (userChoice < 0 or userChoice > 2):\n",
    "    print(\"That is not an option. Enter a number between 0 and 2.\")\n",
    "    userChoice = int(input(f\"{name}'s choice: Enter a number: \"))"
   ]
  },
  {
   "cell_type": "markdown",
   "metadata": {},
   "source": [
    "## 3. Create the game logic"
   ]
  },
  {
   "cell_type": "markdown",
   "metadata": {},
   "source": [
    "#### Hint: think about if/elif/Else\n",
    "#### Hint: have the computer randomly select a choice. "
   ]
  },
  {
   "cell_type": "code",
   "execution_count": 97,
   "metadata": {},
   "outputs": [
    {
     "name": "stdout",
     "output_type": "stream",
     "text": [
      "The computer won. Better luck next time!\n",
      "None\n",
      "Computer choice: rock\n",
      "Yasmin's choice: paper\n"
     ]
    }
   ],
   "source": [
    "# random computer choice\n",
    "import random as rand\n",
    "choices = [\"rock\", \"paper\", \"scissors\"]\n",
    "\n",
    "compChoice = rand.randint(0,2)\n",
    "compWin = print(\"The computer won. Better luck next time!\")\n",
    "\n",
    "# comparing choices\n",
    "if userChoice == 0:\n",
    "    if compChoice == 1:           #user: rock, comp: paper\n",
    "        print(f\"{name} wins!\")\n",
    "    elif compChoice == 2:         #user: rock, comp: scissors\n",
    "        print(compWin)\n",
    "elif userChoice == 1:\n",
    "    if compChoice == 0:           #user: paper, comp: rock\n",
    "        print(compWin)\n",
    "    elif compChoice == 2:         #user: paper, comp: scissors\n",
    "        print(compWin)\n",
    "elif userChoice == 2:\n",
    "    if compChoice == 0:           #user: scissors, comp: rock\n",
    "        print(compWin)\n",
    "    elif compChoice == 1:         #user: scissors, comp: paper\n",
    "        print(f\"{name} wins!\")\n",
    "else:\n",
    "    print(\"It's a draw.\")\n",
    "\n",
    "print(\"Computer choice:\", choices[compChoice])\n",
    "print(f\"{name}'s choice:\", choices[userChoice])\n",
    "\n",
    "\n"
   ]
  },
  {
   "cell_type": "markdown",
   "metadata": {},
   "source": [
    "# Bonus"
   ]
  },
  {
   "cell_type": "markdown",
   "metadata": {},
   "source": [
    "## 1. Include the rules of the game for a new user"
   ]
  },
  {
   "cell_type": "code",
   "execution_count": null,
   "metadata": {},
   "outputs": [],
   "source": [
    "# rules function\n",
    "def rulesFunction():\n",
    "    print(\"*\" * 15)\n",
    "    print(\"The rules of rock paper scissors: \\nEach player picks a tool and then they compare their choices.\")\n",
    "    print(\"Paper beats rock \\nRock beats scissors \\nScissors beats paper\")\n",
    "    print(\"*\" * 15)\n",
    "    return"
   ]
  },
  {
   "cell_type": "markdown",
   "metadata": {},
   "source": [
    "## 2. Add only valid inputs for rock, paper, scissor choice AND guided message"
   ]
  },
  {
   "cell_type": "markdown",
   "metadata": {},
   "source": [
    "#### Hint: use a function"
   ]
  },
  {
   "cell_type": "code",
   "execution_count": null,
   "metadata": {},
   "outputs": [],
   "source": [
    "# user input validation\n",
    "while (userChoice < 0 or userChoice > 2):\n",
    "    print(\"That is not an option. Enter a number between 0 and 2.\")\n",
    "    userChoice = int(input(f\"{name}'s choice: Enter a number: \"))"
   ]
  },
  {
   "cell_type": "markdown",
   "metadata": {},
   "source": [
    "## 3. Add only valid inputs for continuing to play the game AND guided message"
   ]
  },
  {
   "cell_type": "markdown",
   "metadata": {},
   "source": [
    "#### Hint: use a function"
   ]
  },
  {
   "cell_type": "code",
   "execution_count": null,
   "metadata": {},
   "outputs": [],
   "source": [
    "playAgain = 1\n",
    "while playAgain > 0:\n",
    "    playAgain = int(input(\"0 - no \\n1 - yes \\nDo you want to play again? \"))\n",
    "    print(\"*\" * 15)"
   ]
  },
  {
   "cell_type": "markdown",
   "metadata": {},
   "source": [
    "## 4. Put all together in one cell"
   ]
  },
  {
   "cell_type": "code",
   "execution_count": null,
   "metadata": {},
   "outputs": [
    {
     "name": "stdout",
     "output_type": "stream",
     "text": [
      "Welcome to Rock, Paper, Scissors!\n",
      "Enter your name: Yasmin\n",
      "0 - no \n",
      "1 - yes \n",
      "Would you like to see the rules before playing? 1\n",
      "***************\n",
      "The rules of rock paper scissors: \n",
      "Each player picks a tool and then they compare their choices.\n",
      "Paper beats rock \n",
      "Rock beats scissors \n",
      "Scissors beats paper\n",
      "***************\n",
      "For today's game, you have the following choices: \n",
      "0 - Rock \n",
      "1 - Paper \n",
      "2 - Scissors\n",
      "Enter a number: 0\n",
      "Computer's choice: paper\n",
      "Yasmin's choice: rock\n",
      "Yasmin wins!\n",
      "0 - no \n",
      "1 - yes \n",
      "Do you want to play again? 1\n",
      "***************\n",
      "For today's game, you have the following choices: \n",
      "0 - Rock \n",
      "1 - Paper \n",
      "2 - Scissors\n",
      "Enter a number: 1\n",
      "Computer's choice: paper\n",
      "Yasmin's choice: paper\n",
      "It's a draw.\n"
     ]
    }
   ],
   "source": [
    "# rules function\n",
    "def rulesFunction():\n",
    "    print(\"*\" * 15)\n",
    "    print(\"The rules of rock paper scissors: \\nEach player picks a tool and then they compare their choices.\")\n",
    "    print(\"Paper beats rock \\nRock beats scissors \\nScissors beats paper\")\n",
    "    print(\"*\" * 15)\n",
    "    return\n",
    "\n",
    "#choices list\n",
    "choices = [\"rock\", \"paper\", \"scissors\"]\n",
    "\n",
    "# random computer choice\n",
    "import random as rand\n",
    "compChoice = rand.randint(0,2)\n",
    "\n",
    "# computer won message\n",
    "compWin = \"The computer won. Better luck next time!\"\n",
    "\n",
    "### PROGRAM STARTS ###\n",
    "\n",
    "# welcome message\n",
    "print(\"Welcome to Rock, Paper, Scissors!\")\n",
    "name = input(\"Enter your name: \")\n",
    "\n",
    "# rules option\n",
    "rulesOption = int(input(\"0 - no \\n1 - yes \\nWould you like to see the rules before playing? \"))\n",
    "if rulesOption == 1:\n",
    "    rulesFunction()\n",
    "else:\n",
    "    print(\"Okay, let's play!\")\n",
    "\n",
    "playAgain = 1\n",
    "while playAgain > 0:\n",
    "    \n",
    "    # wecome message\n",
    "    print(\"For today's game, you have the following choices: \\n0 - Rock \\n1 - Paper \\n2 - Scissors\") \n",
    "    \n",
    "    # user input\n",
    "    userChoice = int(input(f\"Enter a number: \"))\n",
    "    \n",
    "    # user input validation\n",
    "    while (userChoice < 0 or userChoice > 2):\n",
    "        print(\"That is not an option. Enter a number between 0 and 2.\")\n",
    "        userChoice = int(input(f\"{name}'s choice: Enter a number: \"))\n",
    "    \n",
    "    print(\"Computer's choice:\", choices[compChoice])\n",
    "    print(f\"{name}'s choice:\", choices[userChoice])\n",
    "    \n",
    "    # comparing choices\n",
    "    if userChoice == compChoice:\n",
    "        print(\"It's a draw.\")\n",
    "    elif userChoice == 0:\n",
    "        if compChoice == 1:           #user: rock, comp: paper\n",
    "            print(f\"{name} wins!\")\n",
    "        elif compChoice == 2:         #user: rock, comp: scissors\n",
    "            print(compWin)\n",
    "    elif userChoice == 1:\n",
    "        if compChoice == 0:           #user: paper, comp: rock\n",
    "            print(f\"{name} wins!\")\n",
    "        elif compChoice == 2:         #user: paper, comp: scissors\n",
    "            print(compWin)\n",
    "    elif userChoice == 2:\n",
    "        if compChoice == 0:           #user: scissors, comp: rock\n",
    "            print(compWin)\n",
    "        elif compChoice == 1:         #user: scissors, comp: paper\n",
    "            print(f\"{name} wins!\")\n",
    "  \n",
    "    playAgain = int(input(\"0 - no \\n1 - yes \\nDo you want to play again? \"))\n",
    "    print(\"*\" * 15)\n",
    "    \n",
    "\n",
    "\n"
   ]
  }
 ],
 "metadata": {
  "kernelspec": {
   "display_name": "Python 3 (ipykernel)",
   "language": "python",
   "name": "python3"
  },
  "language_info": {
   "codemirror_mode": {
    "name": "ipython",
    "version": 3
   },
   "file_extension": ".py",
   "mimetype": "text/x-python",
   "name": "python",
   "nbconvert_exporter": "python",
   "pygments_lexer": "ipython3",
   "version": "3.9.13"
  }
 },
 "nbformat": 4,
 "nbformat_minor": 4
}
